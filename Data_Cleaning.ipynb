{
 "cells": [
  {
   "cell_type": "code",
   "execution_count": 1,
   "metadata": {},
   "outputs": [
    {
     "name": "stdout",
     "output_type": "stream",
     "text": [
      "                   0         1     2     3     4      5         6     7     8  \\\n",
      "0                NaN  № Summer  01 !  02 !  03 !  Total  № Winter  01 !  02 !   \n",
      "1  Afghanistan (AFG)        13     0     0     2      2         0     0     0   \n",
      "2      Algeria (ALG)        12     5     2     8     15         3     0     0   \n",
      "3    Argentina (ARG)        23    18    24    28     70        18     0     0   \n",
      "4      Armenia (ARM)         5     1     2     9     12         6     0     0   \n",
      "\n",
      "      9     10       11    12    13    14              15  \n",
      "0  03 !  Total  № Games  01 !  02 !  03 !  Combined total  \n",
      "1     0      0       13     0     0     2               2  \n",
      "2     0      0       15     5     2     8              15  \n",
      "3     0      0       41    18    24    28              70  \n",
      "4     0      0       11     1     2     9              12  \n"
     ]
    }
   ],
   "source": [
    "import pandas as pd\n",
    "df = pd.read_csv('olympics.csv')\n",
    "print(df.head())"
   ]
  },
  {
   "cell_type": "markdown",
   "metadata": {},
   "source": [
    "# Basic Knowledge about Dataset"
   ]
  },
  {
   "cell_type": "code",
   "execution_count": 2,
   "metadata": {},
   "outputs": [
    {
     "data": {
      "text/plain": [
       "(148, 16)"
      ]
     },
     "execution_count": 2,
     "metadata": {},
     "output_type": "execute_result"
    }
   ],
   "source": [
    "df.shape"
   ]
  },
  {
   "cell_type": "code",
   "execution_count": 3,
   "metadata": {},
   "outputs": [
    {
     "data": {
      "text/plain": [
       "Index(['0', '1', '2', '3', '4', '5', '6', '7', '8', '9', '10', '11', '12',\n",
       "       '13', '14', '15'],\n",
       "      dtype='object')"
      ]
     },
     "execution_count": 3,
     "metadata": {},
     "output_type": "execute_result"
    }
   ],
   "source": [
    "df.columns"
   ]
  },
  {
   "cell_type": "code",
   "execution_count": 4,
   "metadata": {},
   "outputs": [
    {
     "data": {
      "text/plain": [
       "0     object\n",
       "1     object\n",
       "2     object\n",
       "3     object\n",
       "4     object\n",
       "5     object\n",
       "6     object\n",
       "7     object\n",
       "8     object\n",
       "9     object\n",
       "10    object\n",
       "11    object\n",
       "12    object\n",
       "13    object\n",
       "14    object\n",
       "15    object\n",
       "dtype: object"
      ]
     },
     "execution_count": 4,
     "metadata": {},
     "output_type": "execute_result"
    }
   ],
   "source": [
    "df.dtypes"
   ]
  },
  {
   "cell_type": "markdown",
   "metadata": {},
   "source": [
    "# Skipping Row 1"
   ]
  },
  {
   "cell_type": "code",
   "execution_count": 5,
   "metadata": {},
   "outputs": [
    {
     "name": "stdout",
     "output_type": "stream",
     "text": [
      "                Unnamed: 0  № Summer  01 !  02 !  03 !  Total  № Winter  \\\n",
      "0        Afghanistan (AFG)        13     0     0     2      2         0   \n",
      "1            Algeria (ALG)        12     5     2     8     15         3   \n",
      "2          Argentina (ARG)        23    18    24    28     70        18   \n",
      "3            Armenia (ARM)         5     1     2     9     12         6   \n",
      "4  Australasia (ANZ) [ANZ]         2     3     4     5     12         0   \n",
      "\n",
      "   01 !.1  02 !.1  03 !.1  Total.1  № Games  01 !.2  02 !.2  03 !.2  \\\n",
      "0       0       0       0        0       13       0       0       2   \n",
      "1       0       0       0        0       15       5       2       8   \n",
      "2       0       0       0        0       41      18      24      28   \n",
      "3       0       0       0        0       11       1       2       9   \n",
      "4       0       0       0        0        2       3       4       5   \n",
      "\n",
      "   Combined total  \n",
      "0               2  \n",
      "1              15  \n",
      "2              70  \n",
      "3              12  \n",
      "4              12  \n"
     ]
    }
   ],
   "source": [
    "df1 = pd.read_csv('olympics.csv',skiprows=1,header=0)\n",
    "print(df1.head())"
   ]
  },
  {
   "cell_type": "markdown",
   "metadata": {},
   "source": [
    "# Checking the Null value in each columns"
   ]
  },
  {
   "cell_type": "code",
   "execution_count": 6,
   "metadata": {},
   "outputs": [
    {
     "data": {
      "text/plain": [
       "Unnamed: 0        0\n",
       "№ Summer          0\n",
       "01 !              0\n",
       "02 !              0\n",
       "03 !              0\n",
       "Total             0\n",
       "№ Winter          0\n",
       "01 !.1            0\n",
       "02 !.1            0\n",
       "03 !.1            0\n",
       "Total.1           0\n",
       "№ Games           0\n",
       "01 !.2            0\n",
       "02 !.2            0\n",
       "03 !.2            0\n",
       "Combined total    0\n",
       "dtype: int64"
      ]
     },
     "execution_count": 6,
     "metadata": {},
     "output_type": "execute_result"
    }
   ],
   "source": [
    "df1.isnull().sum()"
   ]
  },
  {
   "cell_type": "markdown",
   "metadata": {},
   "source": [
    "# Renaming Columns"
   ]
  },
  {
   "cell_type": "code",
   "execution_count": 7,
   "metadata": {},
   "outputs": [
    {
     "name": "stdout",
     "output_type": "stream",
     "text": [
      "                   Country  № Summer  Gold  Silver  Bronze  Total  № Winter  \\\n",
      "0        Afghanistan (AFG)        13     0       0       2      2         0   \n",
      "1            Algeria (ALG)        12     5       2       8     15         3   \n",
      "2          Argentina (ARG)        23    18      24      28     70        18   \n",
      "3            Armenia (ARM)         5     1       2       9     12         6   \n",
      "4  Australasia (ANZ) [ANZ]         2     3       4       5     12         0   \n",
      "\n",
      "   Gold.1  Silver.1  Bronze.1  Total.1  № Games  Gold.2  Silver.2  Bronze.2  \\\n",
      "0       0         0         0        0       13       0         0         2   \n",
      "1       0         0         0        0       15       5         2         8   \n",
      "2       0         0         0        0       41      18        24        28   \n",
      "3       0         0         0        0       11       1         2         9   \n",
      "4       0         0         0        0        2       3         4         5   \n",
      "\n",
      "   Combined total  \n",
      "0               2  \n",
      "1              15  \n",
      "2              70  \n",
      "3              12  \n",
      "4              12  \n"
     ]
    }
   ],
   "source": [
    "new_names =  {'Unnamed: 0': 'Country',\n",
    "              '? Summer': 'Summer Olympics',\n",
    "              '01 !': 'Gold',\n",
    "              '02 !': 'Silver',\n",
    "              '03 !': 'Bronze',\n",
    "              '? Winter': 'Winter Olympics',\n",
    "              '01 !.1': 'Gold.1',\n",
    "              '02 !.1': 'Silver.1',\n",
    "              '03 !.1': 'Bronze.1',\n",
    "              '? Games': '# Games', \n",
    "              '01 !.2': 'Gold.2',\n",
    "              '02 !.2': 'Silver.2',\n",
    "              '03 !.2': 'Bronze.2'}\n",
    "\n",
    "df1.rename(columns = new_names, inplace = True)\n",
    "print(df1.head())"
   ]
  },
  {
   "cell_type": "markdown",
   "metadata": {},
   "source": [
    "# Clean Country Column"
   ]
  },
  {
   "cell_type": "code",
   "execution_count": 8,
   "metadata": {},
   "outputs": [
    {
     "name": "stdout",
     "output_type": "stream",
     "text": [
      "       Country  № Summer  Gold  Silver  Bronze  Total  № Winter  Gold.1  \\\n",
      "0  Afghanistan        13     0       0       2      2         0       0   \n",
      "1      Algeria        12     5       2       8     15         3       0   \n",
      "2    Argentina        23    18      24      28     70        18       0   \n",
      "3      Armenia         5     1       2       9     12         6       0   \n",
      "4  Australasia         2     3       4       5     12         0       0   \n",
      "\n",
      "   Silver.1  Bronze.1  Total.1  № Games  Gold.2  Silver.2  Bronze.2  \\\n",
      "0         0         0        0       13       0         0         2   \n",
      "1         0         0        0       15       5         2         8   \n",
      "2         0         0        0       41      18        24        28   \n",
      "3         0         0        0       11       1         2         9   \n",
      "4         0         0        0        2       3         4         5   \n",
      "\n",
      "   Combined total  \n",
      "0               2  \n",
      "1              15  \n",
      "2              70  \n",
      "3              12  \n",
      "4              12  \n"
     ]
    }
   ],
   "source": [
    "df1['Country'] = df1['Country'].apply(lambda x: x.split()[0])\n",
    "print(df1.head())"
   ]
  },
  {
   "cell_type": "markdown",
   "metadata": {},
   "source": [
    "# Reading BL-Flickr-Images-Book DataSet"
   ]
  },
  {
   "cell_type": "code",
   "execution_count": 9,
   "metadata": {},
   "outputs": [
    {
     "name": "stdout",
     "output_type": "stream",
     "text": [
      "   Identifier             Edition Statement      Place of Publication  \\\n",
      "0         206                           NaN                    London   \n",
      "1         216                           NaN  London; Virtue & Yorston   \n",
      "2         218                           NaN                    London   \n",
      "3         472                           NaN                    London   \n",
      "4         480  A new edition, revised, etc.                    London   \n",
      "\n",
      "  Date of Publication              Publisher  \\\n",
      "0         1879 [1878]       S. Tinsley & Co.   \n",
      "1                1868           Virtue & Co.   \n",
      "2                1869  Bradbury, Evans & Co.   \n",
      "3                1851          James Darling   \n",
      "4                1857   Wertheim & Macintosh   \n",
      "\n",
      "                                               Title     Author  \\\n",
      "0                  Walter Forbes. [A novel.] By A. A      A. A.   \n",
      "1  All for Greed. [A novel. The dedication signed...  A., A. A.   \n",
      "2  Love the Avenger. By the author of “All for Gr...  A., A. A.   \n",
      "3  Welsh Sketches, chiefly ecclesiastical, to the...  A., E. S.   \n",
      "4  [The World in which I live, and my place in it...  A., E. S.   \n",
      "\n",
      "                                   Contributors  Corporate Author  \\\n",
      "0                               FORBES, Walter.               NaN   \n",
      "1  BLAZE DE BURY, Marie Pauline Rose - Baroness               NaN   \n",
      "2  BLAZE DE BURY, Marie Pauline Rose - Baroness               NaN   \n",
      "3                   Appleyard, Ernest Silvanus.               NaN   \n",
      "4                           BROOME, John Henry.               NaN   \n",
      "\n",
      "   Corporate Contributors Former owner  Engraver Issuance type  \\\n",
      "0                     NaN          NaN       NaN   monographic   \n",
      "1                     NaN          NaN       NaN   monographic   \n",
      "2                     NaN          NaN       NaN   monographic   \n",
      "3                     NaN          NaN       NaN   monographic   \n",
      "4                     NaN          NaN       NaN   monographic   \n",
      "\n",
      "                                          Flickr URL  \\\n",
      "0  http://www.flickr.com/photos/britishlibrary/ta...   \n",
      "1  http://www.flickr.com/photos/britishlibrary/ta...   \n",
      "2  http://www.flickr.com/photos/britishlibrary/ta...   \n",
      "3  http://www.flickr.com/photos/britishlibrary/ta...   \n",
      "4  http://www.flickr.com/photos/britishlibrary/ta...   \n",
      "\n",
      "                            Shelfmarks  \n",
      "0    British Library HMNTS 12641.b.30.  \n",
      "1    British Library HMNTS 12626.cc.2.  \n",
      "2    British Library HMNTS 12625.dd.1.  \n",
      "3  British Library HMNTS 10369.bbb.15.  \n",
      "4     British Library HMNTS 9007.d.28.  \n"
     ]
    }
   ],
   "source": [
    "import pandas as pd\n",
    "book_df = pd.read_csv('BL-Flickr-Images-Book.csv')\n",
    "print(book_df.head())"
   ]
  },
  {
   "cell_type": "markdown",
   "metadata": {},
   "source": [
    "# Basic Knowledge About Dataset"
   ]
  },
  {
   "cell_type": "code",
   "execution_count": 10,
   "metadata": {},
   "outputs": [
    {
     "data": {
      "text/plain": [
       "(8287, 15)"
      ]
     },
     "execution_count": 10,
     "metadata": {},
     "output_type": "execute_result"
    }
   ],
   "source": [
    "book_df.shape"
   ]
  },
  {
   "cell_type": "code",
   "execution_count": 11,
   "metadata": {},
   "outputs": [
    {
     "data": {
      "text/plain": [
       "Index(['Identifier', 'Edition Statement', 'Place of Publication',\n",
       "       'Date of Publication', 'Publisher', 'Title', 'Author', 'Contributors',\n",
       "       'Corporate Author', 'Corporate Contributors', 'Former owner',\n",
       "       'Engraver', 'Issuance type', 'Flickr URL', 'Shelfmarks'],\n",
       "      dtype='object')"
      ]
     },
     "execution_count": 11,
     "metadata": {},
     "output_type": "execute_result"
    }
   ],
   "source": [
    "book_df.columns"
   ]
  },
  {
   "cell_type": "code",
   "execution_count": 12,
   "metadata": {},
   "outputs": [
    {
     "data": {
      "text/plain": [
       "Identifier                  int64\n",
       "Edition Statement          object\n",
       "Place of Publication       object\n",
       "Date of Publication        object\n",
       "Publisher                  object\n",
       "Title                      object\n",
       "Author                     object\n",
       "Contributors               object\n",
       "Corporate Author          float64\n",
       "Corporate Contributors    float64\n",
       "Former owner               object\n",
       "Engraver                  float64\n",
       "Issuance type              object\n",
       "Flickr URL                 object\n",
       "Shelfmarks                 object\n",
       "dtype: object"
      ]
     },
     "execution_count": 12,
     "metadata": {},
     "output_type": "execute_result"
    }
   ],
   "source": [
    "book_df.dtypes"
   ]
  },
  {
   "cell_type": "markdown",
   "metadata": {},
   "source": [
    "# Checking Null values"
   ]
  },
  {
   "cell_type": "code",
   "execution_count": 13,
   "metadata": {},
   "outputs": [
    {
     "data": {
      "text/plain": [
       "Identifier                   0\n",
       "Edition Statement         7514\n",
       "Place of Publication         0\n",
       "Date of Publication        181\n",
       "Publisher                 4195\n",
       "Title                        0\n",
       "Author                    1778\n",
       "Contributors                 0\n",
       "Corporate Author          8287\n",
       "Corporate Contributors    8287\n",
       "Former owner              8286\n",
       "Engraver                  8287\n",
       "Issuance type                0\n",
       "Flickr URL                   0\n",
       "Shelfmarks                   0\n",
       "dtype: int64"
      ]
     },
     "execution_count": 13,
     "metadata": {},
     "output_type": "execute_result"
    }
   ],
   "source": [
    "book_df.isnull().sum()"
   ]
  },
  {
   "cell_type": "markdown",
   "metadata": {},
   "source": [
    "# Dropping unnecessary columns"
   ]
  },
  {
   "cell_type": "code",
   "execution_count": 14,
   "metadata": {},
   "outputs": [
    {
     "data": {
      "text/html": [
       "<div>\n",
       "<style scoped>\n",
       "    .dataframe tbody tr th:only-of-type {\n",
       "        vertical-align: middle;\n",
       "    }\n",
       "\n",
       "    .dataframe tbody tr th {\n",
       "        vertical-align: top;\n",
       "    }\n",
       "\n",
       "    .dataframe thead th {\n",
       "        text-align: right;\n",
       "    }\n",
       "</style>\n",
       "<table border=\"1\" class=\"dataframe\">\n",
       "  <thead>\n",
       "    <tr style=\"text-align: right;\">\n",
       "      <th></th>\n",
       "      <th>Identifier</th>\n",
       "      <th>Place of Publication</th>\n",
       "      <th>Date of Publication</th>\n",
       "      <th>Publisher</th>\n",
       "      <th>Title</th>\n",
       "      <th>Author</th>\n",
       "      <th>Flickr URL</th>\n",
       "    </tr>\n",
       "  </thead>\n",
       "  <tbody>\n",
       "    <tr>\n",
       "      <th>0</th>\n",
       "      <td>206</td>\n",
       "      <td>London</td>\n",
       "      <td>1879 [1878]</td>\n",
       "      <td>S. Tinsley &amp; Co.</td>\n",
       "      <td>Walter Forbes. [A novel.] By A. A</td>\n",
       "      <td>A. A.</td>\n",
       "      <td>http://www.flickr.com/photos/britishlibrary/ta...</td>\n",
       "    </tr>\n",
       "    <tr>\n",
       "      <th>1</th>\n",
       "      <td>216</td>\n",
       "      <td>London; Virtue &amp; Yorston</td>\n",
       "      <td>1868</td>\n",
       "      <td>Virtue &amp; Co.</td>\n",
       "      <td>All for Greed. [A novel. The dedication signed...</td>\n",
       "      <td>A., A. A.</td>\n",
       "      <td>http://www.flickr.com/photos/britishlibrary/ta...</td>\n",
       "    </tr>\n",
       "    <tr>\n",
       "      <th>2</th>\n",
       "      <td>218</td>\n",
       "      <td>London</td>\n",
       "      <td>1869</td>\n",
       "      <td>Bradbury, Evans &amp; Co.</td>\n",
       "      <td>Love the Avenger. By the author of “All for Gr...</td>\n",
       "      <td>A., A. A.</td>\n",
       "      <td>http://www.flickr.com/photos/britishlibrary/ta...</td>\n",
       "    </tr>\n",
       "    <tr>\n",
       "      <th>3</th>\n",
       "      <td>472</td>\n",
       "      <td>London</td>\n",
       "      <td>1851</td>\n",
       "      <td>James Darling</td>\n",
       "      <td>Welsh Sketches, chiefly ecclesiastical, to the...</td>\n",
       "      <td>A., E. S.</td>\n",
       "      <td>http://www.flickr.com/photos/britishlibrary/ta...</td>\n",
       "    </tr>\n",
       "    <tr>\n",
       "      <th>4</th>\n",
       "      <td>480</td>\n",
       "      <td>London</td>\n",
       "      <td>1857</td>\n",
       "      <td>Wertheim &amp; Macintosh</td>\n",
       "      <td>[The World in which I live, and my place in it...</td>\n",
       "      <td>A., E. S.</td>\n",
       "      <td>http://www.flickr.com/photos/britishlibrary/ta...</td>\n",
       "    </tr>\n",
       "  </tbody>\n",
       "</table>\n",
       "</div>"
      ],
      "text/plain": [
       "   Identifier      Place of Publication Date of Publication  \\\n",
       "0         206                    London         1879 [1878]   \n",
       "1         216  London; Virtue & Yorston                1868   \n",
       "2         218                    London                1869   \n",
       "3         472                    London                1851   \n",
       "4         480                    London                1857   \n",
       "\n",
       "               Publisher                                              Title  \\\n",
       "0       S. Tinsley & Co.                  Walter Forbes. [A novel.] By A. A   \n",
       "1           Virtue & Co.  All for Greed. [A novel. The dedication signed...   \n",
       "2  Bradbury, Evans & Co.  Love the Avenger. By the author of “All for Gr...   \n",
       "3          James Darling  Welsh Sketches, chiefly ecclesiastical, to the...   \n",
       "4   Wertheim & Macintosh  [The World in which I live, and my place in it...   \n",
       "\n",
       "      Author                                         Flickr URL  \n",
       "0      A. A.  http://www.flickr.com/photos/britishlibrary/ta...  \n",
       "1  A., A. A.  http://www.flickr.com/photos/britishlibrary/ta...  \n",
       "2  A., A. A.  http://www.flickr.com/photos/britishlibrary/ta...  \n",
       "3  A., E. S.  http://www.flickr.com/photos/britishlibrary/ta...  \n",
       "4  A., E. S.  http://www.flickr.com/photos/britishlibrary/ta...  "
      ]
     },
     "execution_count": 14,
     "metadata": {},
     "output_type": "execute_result"
    }
   ],
   "source": [
    "dropable = ['Edition Statement',\n",
    "           'Corporate Author',\n",
    "           'Corporate Contributors',\n",
    "           'Former owner',\n",
    "           'Engraver',\n",
    "           'Contributors',\n",
    "           'Issuance type',\n",
    "           'Shelfmarks']\n",
    "\n",
    "book_df.drop(dropable, inplace = True, axis = 1)\n",
    "book_df.head()\n"
   ]
  },
  {
   "cell_type": "code",
   "execution_count": 15,
   "metadata": {},
   "outputs": [
    {
     "data": {
      "text/plain": [
       "Identifier                 0\n",
       "Place of Publication       0\n",
       "Date of Publication      181\n",
       "Publisher               4195\n",
       "Title                      0\n",
       "Author                  1778\n",
       "Flickr URL                 0\n",
       "dtype: int64"
      ]
     },
     "execution_count": 15,
     "metadata": {},
     "output_type": "execute_result"
    }
   ],
   "source": [
    "##agian Checking null values\n",
    "\n",
    "book_df.isnull().sum()"
   ]
  },
  {
   "cell_type": "markdown",
   "metadata": {},
   "source": [
    "# Reset the index of dataset"
   ]
  },
  {
   "cell_type": "code",
   "execution_count": 16,
   "metadata": {},
   "outputs": [
    {
     "name": "stdout",
     "output_type": "stream",
     "text": [
      "                Place of Publication Date of Publication  \\\n",
      "Identifier                                                 \n",
      "206                           London         1879 [1878]   \n",
      "216         London; Virtue & Yorston                1868   \n",
      "218                           London                1869   \n",
      "472                           London                1851   \n",
      "480                           London                1857   \n",
      "\n",
      "                        Publisher  \\\n",
      "Identifier                          \n",
      "206              S. Tinsley & Co.   \n",
      "216                  Virtue & Co.   \n",
      "218         Bradbury, Evans & Co.   \n",
      "472                 James Darling   \n",
      "480          Wertheim & Macintosh   \n",
      "\n",
      "                                                        Title     Author  \\\n",
      "Identifier                                                                 \n",
      "206                         Walter Forbes. [A novel.] By A. A      A. A.   \n",
      "216         All for Greed. [A novel. The dedication signed...  A., A. A.   \n",
      "218         Love the Avenger. By the author of “All for Gr...  A., A. A.   \n",
      "472         Welsh Sketches, chiefly ecclesiastical, to the...  A., E. S.   \n",
      "480         [The World in which I live, and my place in it...  A., E. S.   \n",
      "\n",
      "                                                   Flickr URL  \n",
      "Identifier                                                     \n",
      "206         http://www.flickr.com/photos/britishlibrary/ta...  \n",
      "216         http://www.flickr.com/photos/britishlibrary/ta...  \n",
      "218         http://www.flickr.com/photos/britishlibrary/ta...  \n",
      "472         http://www.flickr.com/photos/britishlibrary/ta...  \n",
      "480         http://www.flickr.com/photos/britishlibrary/ta...  \n"
     ]
    }
   ],
   "source": [
    "book_df.set_index('Identifier',inplace=True)\n",
    "print(book_df.head())"
   ]
  },
  {
   "cell_type": "code",
   "execution_count": 17,
   "metadata": {},
   "outputs": [
    {
     "data": {
      "text/plain": [
       "Identifier\n",
       "206            1879 [1878]\n",
       "216                   1868\n",
       "218                   1869\n",
       "472                   1851\n",
       "480                   1857\n",
       "481                   1875\n",
       "519                   1872\n",
       "667                    NaN\n",
       "874                   1676\n",
       "1143                  1679\n",
       "1280                  1802\n",
       "1808                  1859\n",
       "1905                  1888\n",
       "1929           1839, 38-54\n",
       "2836                  1897\n",
       "2854                  1865\n",
       "2956               1860-63\n",
       "2957                  1873\n",
       "3017                  1866\n",
       "3131                  1899\n",
       "4598                  1814\n",
       "4884                  1820\n",
       "4976                  1800\n",
       "5382    1847, 48 [1846-48]\n",
       "5385               [1897?]\n",
       "Name: Date of Publication, dtype: object"
      ]
     },
     "execution_count": 17,
     "metadata": {},
     "output_type": "execute_result"
    }
   ],
   "source": [
    "\n",
    "book_df['Date of Publication'].head(25)\n"
   ]
  },
  {
   "cell_type": "markdown",
   "metadata": {},
   "source": [
    "# Clean Date of Publication Column By Apply Function"
   ]
  },
  {
   "cell_type": "code",
   "execution_count": 18,
   "metadata": {},
   "outputs": [
    {
     "data": {
      "text/plain": [
       "Identifier\n",
       "206     1879 \n",
       "216      1868\n",
       "218      1869\n",
       "472      1851\n",
       "480      1857\n",
       "481      1875\n",
       "519      1872\n",
       "667       NaN\n",
       "874      1676\n",
       "1143     1679\n",
       "1280     1802\n",
       "1808     1859\n",
       "1905     1888\n",
       "1929     1839\n",
       "2836     1897\n",
       "2854     1865\n",
       "2956     1860\n",
       "2957     1873\n",
       "3017     1866\n",
       "3131     1899\n",
       "4598     1814\n",
       "4884     1820\n",
       "4976     1800\n",
       "5382     1847\n",
       "5385      NaN\n",
       "Name: Date of Publication, dtype: object"
      ]
     },
     "execution_count": 18,
     "metadata": {},
     "output_type": "execute_result"
    }
   ],
   "source": [
    "import numpy as np\n",
    "unwanted_characters = ['[', ',', '-']\n",
    "\n",
    "def clean_dates(item):\n",
    "    dop= str(item.loc['Date of Publication'])\n",
    "    \n",
    "    if dop == 'nan' or dop[0] == '[':\n",
    "        return np.NaN\n",
    "    \n",
    "    for character in unwanted_characters:\n",
    "        if character in dop:\n",
    "            character_index = dop.find(character)\n",
    "            dop = dop[:character_index]\n",
    "    \n",
    "    return dop\n",
    "\n",
    "book_df['Date of Publication'] = book_df.apply(clean_dates, axis = 1)\n",
    "book_df['Date of Publication'].head(25)"
   ]
  },
  {
   "cell_type": "code",
   "execution_count": 19,
   "metadata": {},
   "outputs": [
    {
     "data": {
      "text/html": [
       "<div>\n",
       "<style scoped>\n",
       "    .dataframe tbody tr th:only-of-type {\n",
       "        vertical-align: middle;\n",
       "    }\n",
       "\n",
       "    .dataframe tbody tr th {\n",
       "        vertical-align: top;\n",
       "    }\n",
       "\n",
       "    .dataframe thead th {\n",
       "        text-align: right;\n",
       "    }\n",
       "</style>\n",
       "<table border=\"1\" class=\"dataframe\">\n",
       "  <thead>\n",
       "    <tr style=\"text-align: right;\">\n",
       "      <th></th>\n",
       "      <th>Place of Publication</th>\n",
       "      <th>Date of Publication</th>\n",
       "      <th>Publisher</th>\n",
       "      <th>Title</th>\n",
       "      <th>Author</th>\n",
       "      <th>Flickr URL</th>\n",
       "    </tr>\n",
       "    <tr>\n",
       "      <th>Identifier</th>\n",
       "      <th></th>\n",
       "      <th></th>\n",
       "      <th></th>\n",
       "      <th></th>\n",
       "      <th></th>\n",
       "      <th></th>\n",
       "    </tr>\n",
       "  </thead>\n",
       "  <tbody>\n",
       "    <tr>\n",
       "      <th>206</th>\n",
       "      <td>London</td>\n",
       "      <td>1879</td>\n",
       "      <td>S. Tinsley &amp; Co.</td>\n",
       "      <td>Walter Forbes. [A novel.] By A. A</td>\n",
       "      <td>A. A.</td>\n",
       "      <td>http://www.flickr.com/photos/britishlibrary/ta...</td>\n",
       "    </tr>\n",
       "    <tr>\n",
       "      <th>216</th>\n",
       "      <td>London; Virtue &amp; Yorston</td>\n",
       "      <td>1868</td>\n",
       "      <td>Virtue &amp; Co.</td>\n",
       "      <td>All for Greed. [A novel. The dedication signed...</td>\n",
       "      <td>A., A. A.</td>\n",
       "      <td>http://www.flickr.com/photos/britishlibrary/ta...</td>\n",
       "    </tr>\n",
       "    <tr>\n",
       "      <th>218</th>\n",
       "      <td>London</td>\n",
       "      <td>1869</td>\n",
       "      <td>Bradbury, Evans &amp; Co.</td>\n",
       "      <td>Love the Avenger. By the author of “All for Gr...</td>\n",
       "      <td>A., A. A.</td>\n",
       "      <td>http://www.flickr.com/photos/britishlibrary/ta...</td>\n",
       "    </tr>\n",
       "    <tr>\n",
       "      <th>472</th>\n",
       "      <td>London</td>\n",
       "      <td>1851</td>\n",
       "      <td>James Darling</td>\n",
       "      <td>Welsh Sketches, chiefly ecclesiastical, to the...</td>\n",
       "      <td>A., E. S.</td>\n",
       "      <td>http://www.flickr.com/photos/britishlibrary/ta...</td>\n",
       "    </tr>\n",
       "    <tr>\n",
       "      <th>480</th>\n",
       "      <td>London</td>\n",
       "      <td>1857</td>\n",
       "      <td>Wertheim &amp; Macintosh</td>\n",
       "      <td>[The World in which I live, and my place in it...</td>\n",
       "      <td>A., E. S.</td>\n",
       "      <td>http://www.flickr.com/photos/britishlibrary/ta...</td>\n",
       "    </tr>\n",
       "  </tbody>\n",
       "</table>\n",
       "</div>"
      ],
      "text/plain": [
       "                Place of Publication Date of Publication  \\\n",
       "Identifier                                                 \n",
       "206                           London               1879    \n",
       "216         London; Virtue & Yorston                1868   \n",
       "218                           London                1869   \n",
       "472                           London                1851   \n",
       "480                           London                1857   \n",
       "\n",
       "                        Publisher  \\\n",
       "Identifier                          \n",
       "206              S. Tinsley & Co.   \n",
       "216                  Virtue & Co.   \n",
       "218         Bradbury, Evans & Co.   \n",
       "472                 James Darling   \n",
       "480          Wertheim & Macintosh   \n",
       "\n",
       "                                                        Title     Author  \\\n",
       "Identifier                                                                 \n",
       "206                         Walter Forbes. [A novel.] By A. A      A. A.   \n",
       "216         All for Greed. [A novel. The dedication signed...  A., A. A.   \n",
       "218         Love the Avenger. By the author of “All for Gr...  A., A. A.   \n",
       "472         Welsh Sketches, chiefly ecclesiastical, to the...  A., E. S.   \n",
       "480         [The World in which I live, and my place in it...  A., E. S.   \n",
       "\n",
       "                                                   Flickr URL  \n",
       "Identifier                                                     \n",
       "206         http://www.flickr.com/photos/britishlibrary/ta...  \n",
       "216         http://www.flickr.com/photos/britishlibrary/ta...  \n",
       "218         http://www.flickr.com/photos/britishlibrary/ta...  \n",
       "472         http://www.flickr.com/photos/britishlibrary/ta...  \n",
       "480         http://www.flickr.com/photos/britishlibrary/ta...  "
      ]
     },
     "execution_count": 19,
     "metadata": {},
     "output_type": "execute_result"
    }
   ],
   "source": [
    "book_df.head()"
   ]
  },
  {
   "cell_type": "markdown",
   "metadata": {},
   "source": [
    "# Clean Titel Column By Apply Function"
   ]
  },
  {
   "cell_type": "code",
   "execution_count": 20,
   "metadata": {},
   "outputs": [
    {
     "data": {
      "text/html": [
       "<div>\n",
       "<style scoped>\n",
       "    .dataframe tbody tr th:only-of-type {\n",
       "        vertical-align: middle;\n",
       "    }\n",
       "\n",
       "    .dataframe tbody tr th {\n",
       "        vertical-align: top;\n",
       "    }\n",
       "\n",
       "    .dataframe thead th {\n",
       "        text-align: right;\n",
       "    }\n",
       "</style>\n",
       "<table border=\"1\" class=\"dataframe\">\n",
       "  <thead>\n",
       "    <tr style=\"text-align: right;\">\n",
       "      <th></th>\n",
       "      <th>Place of Publication</th>\n",
       "      <th>Date of Publication</th>\n",
       "      <th>Publisher</th>\n",
       "      <th>Title</th>\n",
       "      <th>Author</th>\n",
       "      <th>Flickr URL</th>\n",
       "    </tr>\n",
       "    <tr>\n",
       "      <th>Identifier</th>\n",
       "      <th></th>\n",
       "      <th></th>\n",
       "      <th></th>\n",
       "      <th></th>\n",
       "      <th></th>\n",
       "      <th></th>\n",
       "    </tr>\n",
       "  </thead>\n",
       "  <tbody>\n",
       "    <tr>\n",
       "      <th>206</th>\n",
       "      <td>London</td>\n",
       "      <td>1879</td>\n",
       "      <td>S. Tinsley &amp; Co.</td>\n",
       "      <td>Walter Forbes</td>\n",
       "      <td>A. A.</td>\n",
       "      <td>http://www.flickr.com/photos/britishlibrary/ta...</td>\n",
       "    </tr>\n",
       "    <tr>\n",
       "      <th>216</th>\n",
       "      <td>London; Virtue &amp; Yorston</td>\n",
       "      <td>1868</td>\n",
       "      <td>Virtue &amp; Co.</td>\n",
       "      <td>All For Greed</td>\n",
       "      <td>A., A. A.</td>\n",
       "      <td>http://www.flickr.com/photos/britishlibrary/ta...</td>\n",
       "    </tr>\n",
       "    <tr>\n",
       "      <th>218</th>\n",
       "      <td>London</td>\n",
       "      <td>1869</td>\n",
       "      <td>Bradbury, Evans &amp; Co.</td>\n",
       "      <td>Love The Avenger</td>\n",
       "      <td>A., A. A.</td>\n",
       "      <td>http://www.flickr.com/photos/britishlibrary/ta...</td>\n",
       "    </tr>\n",
       "    <tr>\n",
       "      <th>472</th>\n",
       "      <td>London</td>\n",
       "      <td>1851</td>\n",
       "      <td>James Darling</td>\n",
       "      <td>Welsh Sketches, Chiefly Ecclesiastical, To The...</td>\n",
       "      <td>A., E. S.</td>\n",
       "      <td>http://www.flickr.com/photos/britishlibrary/ta...</td>\n",
       "    </tr>\n",
       "    <tr>\n",
       "      <th>480</th>\n",
       "      <td>London</td>\n",
       "      <td>1857</td>\n",
       "      <td>Wertheim &amp; Macintosh</td>\n",
       "      <td>The World In Which I Live, And My Place In It</td>\n",
       "      <td>A., E. S.</td>\n",
       "      <td>http://www.flickr.com/photos/britishlibrary/ta...</td>\n",
       "    </tr>\n",
       "  </tbody>\n",
       "</table>\n",
       "</div>"
      ],
      "text/plain": [
       "                Place of Publication Date of Publication  \\\n",
       "Identifier                                                 \n",
       "206                           London               1879    \n",
       "216         London; Virtue & Yorston                1868   \n",
       "218                           London                1869   \n",
       "472                           London                1851   \n",
       "480                           London                1857   \n",
       "\n",
       "                        Publisher  \\\n",
       "Identifier                          \n",
       "206              S. Tinsley & Co.   \n",
       "216                  Virtue & Co.   \n",
       "218         Bradbury, Evans & Co.   \n",
       "472                 James Darling   \n",
       "480          Wertheim & Macintosh   \n",
       "\n",
       "                                                        Title     Author  \\\n",
       "Identifier                                                                 \n",
       "206                                             Walter Forbes      A. A.   \n",
       "216                                             All For Greed  A., A. A.   \n",
       "218                                          Love The Avenger  A., A. A.   \n",
       "472         Welsh Sketches, Chiefly Ecclesiastical, To The...  A., E. S.   \n",
       "480             The World In Which I Live, And My Place In It  A., E. S.   \n",
       "\n",
       "                                                   Flickr URL  \n",
       "Identifier                                                     \n",
       "206         http://www.flickr.com/photos/britishlibrary/ta...  \n",
       "216         http://www.flickr.com/photos/britishlibrary/ta...  \n",
       "218         http://www.flickr.com/photos/britishlibrary/ta...  \n",
       "472         http://www.flickr.com/photos/britishlibrary/ta...  \n",
       "480         http://www.flickr.com/photos/britishlibrary/ta...  "
      ]
     },
     "execution_count": 20,
     "metadata": {},
     "output_type": "execute_result"
    }
   ],
   "source": [
    "def clean_title(title):\n",
    "    \n",
    "    if title == 'nan':\n",
    "        return 'NaN'\n",
    "    \n",
    "    if title[0] == '[':\n",
    "        title = title[1: title.find(']')]\n",
    "        \n",
    "    if 'by' in title:\n",
    "        title = title[:title.find('by')]\n",
    "    elif 'By' in title:\n",
    "        title = title[:title.find('By')]\n",
    "        \n",
    "    if '[' in title:\n",
    "        title = title[:title.find('[')]\n",
    "\n",
    "    title = title[:-2]\n",
    "        \n",
    "    title = list(map(str.capitalize, title.split()))\n",
    "    return ' '.join(title)\n",
    "    \n",
    "book_df['Title'] = book_df['Title'].apply(clean_title)\n",
    "book_df.head()"
   ]
  },
  {
   "cell_type": "code",
   "execution_count": null,
   "metadata": {},
   "outputs": [],
   "source": []
  }
 ],
 "metadata": {
  "kernelspec": {
   "display_name": "Python 3",
   "language": "python",
   "name": "python3"
  },
  "language_info": {
   "codemirror_mode": {
    "name": "ipython",
    "version": 3
   },
   "file_extension": ".py",
   "mimetype": "text/x-python",
   "name": "python",
   "nbconvert_exporter": "python",
   "pygments_lexer": "ipython3",
   "version": "3.6.4"
  }
 },
 "nbformat": 4,
 "nbformat_minor": 2
}
